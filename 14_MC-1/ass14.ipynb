{
 "cells": [
  {
   "cell_type": "code",
   "execution_count": 2,
   "metadata": {},
   "outputs": [],
   "source": [
    "import numpy as np\n",
    "import collections as cl\n",
    "\n",
    "P2 = np.array([\n",
    "    [0.25, 0.10, 0.25],\n",
    "    [0.50, 0.80, 0.50],\n",
    "    [0.25, 0.10, 0.25]],dtype=np.float32)\n",
    "P1 = np.array([\n",
    "    [0.30, 0.20, 0.50],\n",
    "    [0.50, 0.30, 0.20],\n",
    "    [0.20, 0.50, 0.30]],dtype=np.float32)\n",
    "S = np.array([\n",
    "    [1,0,0],\n",
    "    [0,1,0],\n",
    "    [0,0,1]])\n",
    "\n",
    "ts = [1,2,4,8,16,32]"
   ]
  },
  {
   "cell_type": "markdown",
   "metadata": {},
   "source": [
    "## Task 14.1: evolution of a Markov process"
   ]
  },
  {
   "cell_type": "code",
   "execution_count": 3,
   "metadata": {
    "tags": []
   },
   "outputs": [
    {
     "output_type": "stream",
     "name": "stdout",
     "text": "pi[1] = \n[[0.25       0.1        0.25      ]\n [0.5        0.80000001 0.5       ]\n [0.25       0.1        0.25      ]]\n\npi[2] = \n[[0.175      0.13000001 0.175     ]\n [0.64999998 0.74000001 0.64999998]\n [0.175      0.13000001 0.175     ]]\n\npi[4] = \n[[0.14575    0.14170001 0.14575   ]\n [0.70849997 0.7166     0.70849997]\n [0.14575    0.14170001 0.14575   ]]\n\npi[8] = \n[[0.14288059 0.14284778 0.14288059]\n [0.71423882 0.71430445 0.71423882]\n [0.14288059 0.14284778 0.14288059]]\n\npi[16] = \n[[0.14285715 0.14285715 0.14285715]\n [0.71428567 0.71428567 0.71428567]\n [0.14285715 0.14285715 0.14285715]]\n\npi[32] = \n[[0.14285715 0.14285715 0.14285715]\n [0.71428567 0.71428567 0.71428567]\n [0.14285715 0.14285715 0.14285715]]\n\n"
    }
   ],
   "source": [
    "for t in ts:\n",
    "    pi = np.linalg.matrix_power(P2,t) @ S\n",
    "    print(\"pi[{}] = \\n{}\".format(str(t), pi))\n",
    "    print()"
   ]
  },
  {
   "cell_type": "code",
   "execution_count": 4,
   "metadata": {
    "tags": []
   },
   "outputs": [
    {
     "output_type": "stream",
     "name": "stdout",
     "text": "pi[1] = \n[[0.30000001 0.2        0.5       ]\n [0.5        0.30000001 0.2       ]\n [0.2        0.5        0.30000001]]\n\npi[2] = \n[[0.28999999 0.37       0.34000003]\n [0.34       0.29000002 0.37      ]\n [0.37       0.34000003 0.29000002]]\n\npi[4] = \n[[0.33570001 0.33020005 0.33410004]\n [0.33410001 0.33570004 0.33020002]\n [0.33020002 0.33410004 0.33570004]]\n\npi[8] = \n[[0.33333418 0.33331916 0.33334684]\n [0.33334681 0.33333421 0.33331913]\n [0.33331913 0.33334684 0.33333418]]\n\npi[16] = \n[[0.33333343 0.33333346 0.33333343]\n [0.33333343 0.33333346 0.33333343]\n [0.33333343 0.33333346 0.33333343]]\n\npi[32] = \n[[0.33333355 0.33333358 0.33333355]\n [0.33333355 0.33333358 0.33333355]\n [0.33333355 0.33333358 0.33333355]]\n\n"
    }
   ],
   "source": [
    "for t in ts:\n",
    "    pi = np.linalg.matrix_power(P1,t) @ S\n",
    "    print(\"pi[{}] = \\n{}\".format(str(t), pi))\n",
    "    print()"
   ]
  },
  {
   "cell_type": "code",
   "execution_count": 5,
   "metadata": {},
   "outputs": [
    {
     "output_type": "execute_result",
     "data": {
      "text/plain": "(array([ 1.000000e+00, -5.769797e-17,  3.000000e-01], dtype=float32),\n array([[ 1.9245009e-01,  7.0710677e-01,  4.0824831e-01],\n        [ 9.6225047e-01,  2.5633392e-17, -8.1649655e-01],\n        [ 1.9245009e-01, -7.0710677e-01,  4.0824831e-01]], dtype=float32))"
     },
     "metadata": {},
     "execution_count": 5
    }
   ],
   "source": [
    "np.linalg.eig(P2)"
   ]
  },
  {
   "cell_type": "code",
   "execution_count": 6,
   "metadata": {},
   "outputs": [
    {
     "output_type": "execute_result",
     "data": {
      "text/plain": "(array([ 1.        +0.j        , -0.04999999+0.25980762j,\n        -0.04999999-0.25980762j], dtype=complex64),\n array([[ 0.57735026+0.j ,  0.57735026+0.j ,  0.57735026-0.j ],\n        [ 0.57735026+0.j , -0.28867513-0.5j, -0.28867513+0.5j],\n        [ 0.57735026+0.j , -0.28867513+0.5j, -0.28867513-0.5j]],\n       dtype=complex64))"
     },
     "metadata": {},
     "execution_count": 6
    }
   ],
   "source": [
    "np.linalg.eig(P1)"
   ]
  },
  {
   "cell_type": "markdown",
   "metadata": {},
   "source": [
    "## Task 14.2: sampling a Markov process"
   ]
  },
  {
   "cell_type": "code",
   "execution_count": 7,
   "metadata": {},
   "outputs": [],
   "source": [
    "import numpy.random as rnd\n",
    "\n",
    "states = ['A', 'B', 'C']\n",
    "indices = range(len(states))\n",
    "state2index = dict(zip(states, indices))\n",
    "index2state = dict(zip(indices, states))\n",
    "\n",
    "def generateStateSequence(X0, P, tau):\n",
    "    sseq = [X0]\n",
    "    iold = state2index[X0]\n",
    "    for t in range(tau-1):\n",
    "        inew = rnd.choice(indices, p=P[:,iold])\n",
    "        sseq.append(index2state[inew])\n",
    "        iold = inew\n",
    "    return sseq\n",
    "\n",
    "def generate_episoids(X0, P, tau=10, times=10000):\n",
    "    episoids = np.zeros((times, tau)).astype(object)\n",
    "    for i in range(times):\n",
    "        sequence = generateStateSequence(X0, P, tau)\n",
    "        episoids[i] = np.array(sequence)\n",
    "    return episoids"
   ]
  },
  {
   "cell_type": "code",
   "execution_count": 8,
   "metadata": {},
   "outputs": [],
   "source": [
    "episoids1 = generate_episoids('A', P1)\n",
    "episoids2 = generate_episoids('C', P2)\n"
   ]
  },
  {
   "cell_type": "code",
   "execution_count": 9,
   "metadata": {
    "tags": []
   },
   "outputs": [
    {
     "output_type": "stream",
     "name": "stdout",
     "text": "C 0.3389\nB 0.3278\nA 0.3333\n"
    }
   ],
   "source": [
    "occurences = cl.Counter(episoids1[:,-1])\n",
    "for state, occ in occurences.items():\n",
    "    print(state, occ/10000)\n"
   ]
  },
  {
   "cell_type": "code",
   "execution_count": 10,
   "metadata": {
    "tags": []
   },
   "outputs": [
    {
     "output_type": "stream",
     "name": "stdout",
     "text": "B 0.7158\nC 0.1339\nA 0.1503\n"
    }
   ],
   "source": [
    "occurences = cl.Counter(episoids2[:,-1])\n",
    "for state, occ in occurences.items():\n",
    "    print(state, occ/10000)"
   ]
  },
  {
   "cell_type": "code",
   "execution_count": null,
   "metadata": {},
   "outputs": [],
   "source": []
  }
 ],
 "metadata": {
  "language_info": {
   "codemirror_mode": {
    "name": "ipython",
    "version": 3
   },
   "file_extension": ".py",
   "mimetype": "text/x-python",
   "name": "python",
   "nbconvert_exporter": "python",
   "pygments_lexer": "ipython3",
   "version": "3.6.9-final"
  },
  "orig_nbformat": 2,
  "kernelspec": {
   "name": "python36964bitenvvenvb31fae277f9a40bd8ce1bbdea46c7b38",
   "display_name": "Python 3.6.9 64-bit ('.env': venv)"
  }
 },
 "nbformat": 4,
 "nbformat_minor": 2
}