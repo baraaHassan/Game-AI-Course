{
 "cells": [
  {
   "cell_type": "code",
   "execution_count": 2,
   "metadata": {},
   "outputs": [],
   "source": [
    "import numpy as np\n",
    "import collections as cl\n",
    "\n",
    "P2 = np.array([\n",
    "    [0.25, 0.10, 0.25],\n",
    "    [0.50, 0.80, 0.50],\n",
    "    [0.25, 0.10, 0.25]],dtype=np.float32)\n",
    "\n",
    "ro_s = [5,10,100]"
   ]
  },
  {
   "cell_type": "markdown",
   "metadata": {},
   "source": [
    "## task 16.1: the likelihood of a future event"
   ]
  },
  {
   "cell_type": "code",
   "execution_count": 3,
   "metadata": {
    "tags": []
   },
   "outputs": [
    {
     "output_type": "stream",
     "name": "stdout",
     "text": "5 -2.725155669005149\n10 -3.8408734255761976\n100 -23.92379304385507\n"
    }
   ],
   "source": [
    "for ro in ro_s:\n",
    "    log_l = ro * np.log(0.8) + np.log(1-0.8)\n",
    "    print(ro, log_l)"
   ]
  },
  {
   "cell_type": "markdown",
   "metadata": {},
   "source": [
    "## task 16.2: the likelihood of another future event"
   ]
  },
  {
   "cell_type": "code",
   "execution_count": 4,
   "metadata": {
    "tags": []
   },
   "outputs": [
    {
     "output_type": "stream",
     "name": "stdout",
     "text": "5 -2.725155669005149\n10 -3.8408734255761976\n100 -23.92379304385507\n"
    }
   ],
   "source": [
    "for ro in ro_s:\n",
    "    log_l = ro * np.log(0.8) + np.log(1-0.8)\n",
    "    print(ro, log_l)"
   ]
  },
  {
   "cell_type": "markdown",
   "metadata": {},
   "source": [
    "## task 16.3: the likelihood of another yet future event"
   ]
  },
  {
   "cell_type": "code",
   "execution_count": 18,
   "metadata": {
    "tags": []
   },
   "outputs": [
    {
     "output_type": "stream",
     "name": "stdout",
     "text": "5 -0.5388295812131451\n10 -1.1810913129933966\n100 -12.743773938492254\n"
    }
   ],
   "source": [
    "Pm = np.array([\n",
    "    [0.0, 0.0, 0.5],\n",
    "    [0.0, 0.80, 0.50],\n",
    "    [0.0, 0.10, 0.25]],dtype=np.float32)\n",
    "\n",
    "pi = np.array([[0,1,0]]).T\n",
    "\n",
    "for ro in ro_s:\n",
    "    prob = np.dot(np.linalg.matrix_power(Pm, ro), pi).sum()\n",
    "    log_l = np.log(prob)\n",
    "    print(ro, log_l)"
   ]
  },
  {
   "cell_type": "code",
   "execution_count": null,
   "metadata": {},
   "outputs": [],
   "source": []
  }
 ],
 "metadata": {
  "language_info": {
   "codemirror_mode": {
    "name": "ipython",
    "version": 3
   },
   "file_extension": ".py",
   "mimetype": "text/x-python",
   "name": "python",
   "nbconvert_exporter": "python",
   "pygments_lexer": "ipython3",
   "version": "3.6.9-final"
  },
  "orig_nbformat": 2,
  "kernelspec": {
   "name": "python36964bitenvvenvb31fae277f9a40bd8ce1bbdea46c7b38",
   "display_name": "Python 3.6.9 64-bit ('.env': venv)"
  }
 },
 "nbformat": 4,
 "nbformat_minor": 2
}