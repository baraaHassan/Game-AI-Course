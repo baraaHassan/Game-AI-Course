{
 "cells": [
  {
   "cell_type": "markdown",
   "metadata": {},
   "source": [
    "# Self Test 1\n",
    "\n",
    "## Inference with Markov models"
   ]
  },
  {
   "cell_type": "code",
   "execution_count": 3,
   "metadata": {},
   "outputs": [],
   "source": [
    "import numpy as np\n",
    "\n",
    "P1 = np.array([\n",
    "    [0.3, 0.2, 0.5],\n",
    "    [0.5, 0.3, 0.2],\n",
    "    [0.2, 0.5, 0.3]])\n",
    "\n",
    "S = ['A', 'B', 'C']"
   ]
  },
  {
   "cell_type": "code",
   "execution_count": 14,
   "metadata": {
    "tags": []
   },
   "outputs": [
    {
     "output_type": "stream",
     "name": "stdout",
     "text": "0.04\n-3.22\n"
    }
   ],
   "source": [
    "pE1 = P1[1,2] * P1[0,1]\n",
    "logE1 = np.log(P1[1,2]) + np.log(P1[0,1])\n",
    "\n",
    "print(round(pE1,2))\n",
    "print(round(logE1,2))"
   ]
  },
  {
   "cell_type": "code",
   "execution_count": 15,
   "metadata": {
    "tags": []
   },
   "outputs": [
    {
     "output_type": "stream",
     "name": "stdout",
     "text": "0.25\n-1.39\n"
    }
   ],
   "source": [
    "pE2 = P1[0,2] * P1[1,0]\n",
    "logE2 = np.log(P1[0,2]) + np.log(P1[1,0])\n",
    "\n",
    "print(round(pE2,2))\n",
    "print(round(logE2,2))"
   ]
  },
  {
   "cell_type": "markdown",
   "metadata": {},
   "source": [
    "## Sampling a Markov model"
   ]
  },
  {
   "cell_type": "code",
   "execution_count": 6,
   "metadata": {},
   "outputs": [],
   "source": [
    "import numpy.random as rnd\n",
    "\n",
    "states = ['A', 'B', 'C']\n",
    "indices = range(len(states))\n",
    "state2index = dict(zip(states, indices))\n",
    "index2state = dict(zip(indices, states))\n",
    "\n",
    "def generateStateSequence(X0, P, tau):\n",
    "    sseq = [X0]\n",
    "    iold = state2index[X0]\n",
    "    for t in range(tau-1):\n",
    "        inew = rnd.choice(indices, p=P[:,iold])\n",
    "        sseq.append(index2state[inew])\n",
    "        iold = inew\n",
    "    return sseq\n",
    "\n",
    "def generate_episoids(X0, P, tau=200, times=1000):\n",
    "    episoids = np.zeros((times, tau)).astype(object)\n",
    "    for i in range(times):\n",
    "        sequence = generateStateSequence(X0, P, tau)\n",
    "        episoids[i] = np.array(sequence)\n",
    "    return episoids"
   ]
  },
  {
   "cell_type": "code",
   "execution_count": 17,
   "metadata": {
    "tags": []
   },
   "outputs": [],
   "source": [
    "episoids1 = generate_episoids('A', P1)"
   ]
  },
  {
   "cell_type": "code",
   "execution_count": 25,
   "metadata": {
    "tags": []
   },
   "outputs": [
    {
     "output_type": "stream",
     "name": "stdout",
     "text": "A A B B A A B A B B C A A C A A A C C B B A C C A B C A B A B A B C A B C A B A C A A A B C C B C A B C A A A A A B C C A B B B C A B A B C C C C A C C A B C A B C A B B C C A A B B C C B C C A B C B A B C A C C A B C C B C B B C A A B C B C B B A A B C A A B C A C C A B B C C A B B C A B B A C C C B C A C A B C A B C A C B A B A B B C B A B C C B C B C A A B B C A A A B C A B C C A C A A A B A B"
    }
   ],
   "source": [
    "# print sequence nice\n",
    "for i, state in enumerate(episoids1[0]):\n",
    "    print(state, end=' ')"
   ]
  },
  {
   "cell_type": "code",
   "execution_count": 8,
   "metadata": {
    "tags": []
   },
   "outputs": [],
   "source": [
    "def compute_avgloglike(episoids):\n",
    "    log_sums = [] \n",
    "    for n in range(episoids1.shape[0]):\n",
    "        # current state\n",
    "        log_sum = 0   \n",
    "        t = states.index(episoids1[n,0])\n",
    "        for l in range(1,episoids1.shape[1]):\n",
    "            # successive state\n",
    "            t_1 = states.index(episoids1[n,l])\n",
    "            # compute incremental log likelihood\n",
    "            log_sum += np.log(P1[t_1,t])\n",
    "            # increment the time stamp\n",
    "            t = t_1\n",
    "        # print(log_sum)\n",
    "        log_sums.append(log_sum)\n",
    "\n",
    "    avg = sum(log_sums) / len(log_sums)\n",
    "    return avg"
   ]
  },
  {
   "cell_type": "code",
   "execution_count": 9,
   "metadata": {
    "tags": []
   },
   "outputs": [
    {
     "output_type": "stream",
     "name": "stdout",
     "text": "-205.06\n"
    }
   ],
   "source": [
    "avgloglike = compute_avgloglike(episoids1)\n",
    "print(round(avgloglike, 2))"
   ]
  },
  {
   "cell_type": "markdown",
   "metadata": {},
   "source": [
    "## Learning a Markov model"
   ]
  },
  {
   "cell_type": "code",
   "execution_count": 10,
   "metadata": {},
   "outputs": [],
   "source": [
    "state_num = len(S)\n",
    "\n",
    "def estimate_transisions(episoids):\n",
    "    matP = np.zeros((state_num,state_num))\n",
    "    \n",
    "    for s_idx, state in enumerate(S):\n",
    "        # find position of each state in each episode\n",
    "        epps, states = np.where((episoids == state))\n",
    "\n",
    "        for ep, s in zip(epps, states):\n",
    "            # if last state of the sequence then skip\n",
    "            if (s+1) >= episoids.shape[1]:\n",
    "                continue\n",
    "\n",
    "            # get successive state\n",
    "            succ_state = episoids[ep, s+1]\n",
    "            # get successive state idx\n",
    "            ss_idx = S.index(succ_state)\n",
    "            # increment successive state count\n",
    "            matP[ss_idx,s_idx] += 1\n",
    "    \n",
    "    matP /= matP.sum(axis=1)\n",
    "    return matP"
   ]
  },
  {
   "cell_type": "code",
   "execution_count": 11,
   "metadata": {
    "tags": []
   },
   "outputs": [
    {
     "output_type": "stream",
     "name": "stdout",
     "text": "[[0.3 0.2 0.5]\n [0.5 0.3 0.2]\n [0.2 0.5 0.3]]\n\n[[0.3 0.2 0.5]\n [0.5 0.3 0.2]\n [0.2 0.5 0.3]]\n"
    }
   ],
   "source": [
    "Pmle = estimate_transisions(episoids1)\n",
    "\n",
    "print(Pmle.round(2))\n",
    "print()\n",
    "print(P1)"
   ]
  },
  {
   "cell_type": "markdown",
   "metadata": {},
   "source": [
    "## Stationary distribution a Markov model"
   ]
  },
  {
   "cell_type": "code",
   "execution_count": 12,
   "metadata": {
    "tags": []
   },
   "outputs": [
    {
     "output_type": "stream",
     "name": "stdout",
     "text": "[0.33333333 0.33333333 0.33333333]\n"
    }
   ],
   "source": [
    "import numpy as np\n",
    "import numpy.linalg as la\n",
    "\n",
    "m = P1.shape[0]\n",
    "b = np.hstack((np.zeros(m), 1))\n",
    "I = np.eye(m)\n",
    "A = np.vstack((I-P1, np.ones(m)))\n",
    "pi = la.lstsq(A, b)[0]\n",
    "\n",
    "print(pi)"
   ]
  }
 ],
 "metadata": {
  "language_info": {
   "codemirror_mode": {
    "name": "ipython",
    "version": 3
   },
   "file_extension": ".py",
   "mimetype": "text/x-python",
   "name": "python",
   "nbconvert_exporter": "python",
   "pygments_lexer": "ipython3",
   "version": "3.6.9-final"
  },
  "orig_nbformat": 2,
  "kernelspec": {
   "name": "python36964bitenvvenvb31fae277f9a40bd8ce1bbdea46c7b38",
   "display_name": "Python 3.6.9 64-bit ('.env': venv)"
  }
 },
 "nbformat": 4,
 "nbformat_minor": 2
}